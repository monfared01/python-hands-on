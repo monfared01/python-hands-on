{
 "cells": [
  {
   "cell_type": "markdown",
   "metadata": {
    "id": "3cfrOV4dL9hW"
   },
   "source": [
    "## Numpy"
   ]
  },
  {
   "cell_type": "code",
   "execution_count": 1,
   "metadata": {
    "id": "58QdX8BLL9hZ"
   },
   "outputs": [],
   "source": [
    "import numpy as np"
   ]
  },
  {
   "cell_type": "code",
   "execution_count": 2,
   "metadata": {
    "id": "1f0xxFg3CnHf"
   },
   "outputs": [],
   "source": [
    "array = np.array([1, 2, 3]) "
   ]
  },
  {
   "cell_type": "code",
   "execution_count": 3,
   "metadata": {
    "colab": {
     "base_uri": "https://localhost:8080/"
    },
    "id": "PlIysSfzCsvu",
    "outputId": "900c1e2e-4960-4f28-a8d1-5bee1258d823"
   },
   "outputs": [
    {
     "data": {
      "text/plain": [
       "(3,)"
      ]
     },
     "execution_count": 3,
     "metadata": {},
     "output_type": "execute_result"
    }
   ],
   "source": [
    "array.shape"
   ]
  },
  {
   "cell_type": "code",
   "execution_count": 4,
   "metadata": {
    "colab": {
     "base_uri": "https://localhost:8080/"
    },
    "id": "9mzuY2JTCxsd",
    "outputId": "fe32c1bc-3bc8-4ed8-86b8-0a8db925f166"
   },
   "outputs": [
    {
     "name": "stdout",
     "output_type": "stream",
     "text": [
      "<class 'numpy.ndarray'>\n"
     ]
    },
    {
     "data": {
      "text/plain": [
       "array([3, 4, 5])"
      ]
     },
     "execution_count": 4,
     "metadata": {},
     "output_type": "execute_result"
    }
   ],
   "source": [
    "list4=[3,4,5]\n",
    "array2=np.array(list4)\n",
    "print(type(array2))\n",
    "array2"
   ]
  },
  {
   "cell_type": "code",
   "execution_count": 5,
   "metadata": {
    "colab": {
     "base_uri": "https://localhost:8080/"
    },
    "id": "-l3JrGxCL9hc",
    "outputId": "230cc501-ab3f-4c1b-f167-d55cd816ce3b"
   },
   "outputs": [
    {
     "name": "stdout",
     "output_type": "stream",
     "text": [
      "<class 'numpy.ndarray'> (3,) 1 2 3\n",
      "[5 2 3]\n"
     ]
    }
   ],
   "source": [
    "a = np.array([1, 2, 3]) \n",
    "print(type(a), a.shape, a[0], a[1], a[2])\n",
    "a[0] = 5              \n",
    "print(a)                  "
   ]
  },
  {
   "cell_type": "code",
   "execution_count": 6,
   "metadata": {
    "colab": {
     "base_uri": "https://localhost:8080/"
    },
    "id": "8vwoX378wHEC",
    "outputId": "510f4de7-e912-44c6-e274-2a46f1791470"
   },
   "outputs": [
    {
     "name": "stdout",
     "output_type": "stream",
     "text": [
      "(2, 3)\n"
     ]
    },
    {
     "data": {
      "text/plain": [
       "numpy.ndarray"
      ]
     },
     "execution_count": 6,
     "metadata": {},
     "output_type": "execute_result"
    }
   ],
   "source": [
    "list3=[[1,2,3],[9,7,7]]\n",
    "array=np.array(list3)\n",
    "print(array.shape)\n",
    "type(array)"
   ]
  },
  {
   "cell_type": "code",
   "execution_count": 7,
   "metadata": {
    "colab": {
     "base_uri": "https://localhost:8080/"
    },
    "id": "mVTN_EBqL9hn",
    "outputId": "d48e8829-33a1-48e8-95da-64c758dd3865"
   },
   "outputs": [
    {
     "name": "stdout",
     "output_type": "stream",
     "text": [
      "[[0. 0.]\n",
      " [0. 0.]\n",
      " [0. 0.]\n",
      " [0. 0.]]\n"
     ]
    }
   ],
   "source": [
    "a = np.zeros((4,2))  \n",
    "print(a)"
   ]
  },
  {
   "cell_type": "code",
   "execution_count": 8,
   "metadata": {
    "colab": {
     "base_uri": "https://localhost:8080/"
    },
    "id": "skiKlNmlL9h5",
    "outputId": "409d98a1-f7ff-4572-ad4f-bcbc23c25688"
   },
   "outputs": [
    {
     "name": "stdout",
     "output_type": "stream",
     "text": [
      "[[1. 1.]\n",
      " [1. 1.]\n",
      " [1. 1.]\n",
      " [1. 1.]\n",
      " [1. 1.]]\n"
     ]
    }
   ],
   "source": [
    "b = np.ones((5,2))   \n",
    "print(b)"
   ]
  },
  {
   "cell_type": "code",
   "execution_count": 9,
   "metadata": {
    "colab": {
     "base_uri": "https://localhost:8080/"
    },
    "id": "HtFsr03bL9h7",
    "outputId": "dc9a0512-b61d-43d3-9744-f59fd44a2a2e"
   },
   "outputs": [
    {
     "name": "stdout",
     "output_type": "stream",
     "text": [
      "[[5 5]\n",
      " [5 5]]\n"
     ]
    }
   ],
   "source": [
    "c = np.full((2,2), 5) \n",
    "print(c)"
   ]
  },
  {
   "cell_type": "code",
   "execution_count": 10,
   "metadata": {
    "colab": {
     "base_uri": "https://localhost:8080/"
    },
    "id": "-QcALHvkL9h9",
    "outputId": "82bb5580-4c17-4df5-ca3c-b6df958c8bb0"
   },
   "outputs": [
    {
     "name": "stdout",
     "output_type": "stream",
     "text": [
      "[[1. 0. 0. 0. 0.]\n",
      " [0. 1. 0. 0. 0.]\n",
      " [0. 0. 1. 0. 0.]\n",
      " [0. 0. 0. 1. 0.]\n",
      " [0. 0. 0. 0. 1.]]\n"
     ]
    }
   ],
   "source": [
    "d = np.eye(5)       \n",
    "print(d)"
   ]
  },
  {
   "cell_type": "code",
   "execution_count": 11,
   "metadata": {
    "colab": {
     "base_uri": "https://localhost:8080/"
    },
    "id": "RCpaYg9qL9iA",
    "outputId": "a2abfe1d-4d28-4bc9-e347-436d1a7c6fa4"
   },
   "outputs": [
    {
     "name": "stdout",
     "output_type": "stream",
     "text": [
      "[[0.0251543  0.54164599]\n",
      " [0.68541189 0.34598993]]\n"
     ]
    }
   ],
   "source": [
    "e = np.random.random((2,2)) \n",
    "print(e)"
   ]
  },
  {
   "cell_type": "code",
   "execution_count": 12,
   "metadata": {
    "colab": {
     "base_uri": "https://localhost:8080/"
    },
    "id": "MrUcU_aEQM3v",
    "outputId": "32d75132-ac96-4c7f-d66e-816be80863b5"
   },
   "outputs": [
    {
     "data": {
      "text/plain": [
       "array([[4, 3, 2],\n",
       "       [4, 1, 1],\n",
       "       [2, 4, 4]])"
      ]
     },
     "execution_count": 12,
     "metadata": {},
     "output_type": "execute_result"
    }
   ],
   "source": [
    "rand=np.random.randint(1,5,size=(3,3))\n",
    "rand"
   ]
  },
  {
   "cell_type": "code",
   "execution_count": 13,
   "metadata": {
    "colab": {
     "base_uri": "https://localhost:8080/"
    },
    "id": "_2fpRnXYQI4i",
    "outputId": "260c7123-3a2d-4eee-e227-8e62be2e6bfd"
   },
   "outputs": [
    {
     "data": {
      "text/plain": [
       "0.4076870280802861"
      ]
     },
     "execution_count": 13,
     "metadata": {},
     "output_type": "execute_result"
    }
   ],
   "source": [
    "np.random.seed(40)\n",
    "rand=np.random.rand()\n",
    "rand"
   ]
  },
  {
   "cell_type": "markdown",
   "metadata": {
    "id": "jI5qcSDfL9iC"
   },
   "source": [
    "### Array indexing"
   ]
  },
  {
   "cell_type": "code",
   "execution_count": 14,
   "metadata": {
    "colab": {
     "base_uri": "https://localhost:8080/"
    },
    "id": "wLWA0udwL9iD",
    "outputId": "4b1427c8-49cb-474e-cff6-1026cf8c82c8"
   },
   "outputs": [
    {
     "data": {
      "text/plain": [
       "(3, 4)"
      ]
     },
     "execution_count": 14,
     "metadata": {},
     "output_type": "execute_result"
    }
   ],
   "source": [
    "import numpy as np\n",
    "\n",
    "# [[ 1  2  3  4]\n",
    "#  [ 5  6  7  8]\n",
    "#  [ 9 10 11 12]]\n",
    "a = np.array([[1,2,3,4], [5,6,7,8], [9,10,11,12]])\n",
    "a.shape\n"
   ]
  },
  {
   "cell_type": "code",
   "execution_count": 15,
   "metadata": {
    "colab": {
     "base_uri": "https://localhost:8080/"
    },
    "id": "Oz2yT6PZ6y04",
    "outputId": "e86313b5-0eae-45a1-f926-d0536363b652"
   },
   "outputs": [
    {
     "name": "stdout",
     "output_type": "stream",
     "text": [
      "[[2 3]\n",
      " [6 7]]\n"
     ]
    }
   ],
   "source": [
    "b = a[:2, 1:3]\n",
    "print(b)"
   ]
  },
  {
   "cell_type": "code",
   "execution_count": 16,
   "metadata": {
    "colab": {
     "base_uri": "https://localhost:8080/"
    },
    "id": "1kmtaFHuL9iG",
    "outputId": "2251b0c1-7374-4c79-9863-d010052fdb2b"
   },
   "outputs": [
    {
     "name": "stdout",
     "output_type": "stream",
     "text": [
      "2\n",
      "77\n"
     ]
    }
   ],
   "source": [
    "print(a[0, 1])\n",
    "b[0, 0] = 77  \n",
    "print(a[0, 1]) "
   ]
  },
  {
   "cell_type": "code",
   "execution_count": 17,
   "metadata": {
    "colab": {
     "base_uri": "https://localhost:8080/"
    },
    "id": "32PusjtKL9id",
    "outputId": "587849dd-7f4a-4bc6-94e7-2ee9810f7c31"
   },
   "outputs": [
    {
     "name": "stdout",
     "output_type": "stream",
     "text": [
      "[False False  True  True  True  True]\n"
     ]
    }
   ],
   "source": [
    "a = np.array([1, 2, 3, 4, 5, 6])\n",
    "\n",
    "bool_idx = (a > 2)  \n",
    "print(bool_idx)"
   ]
  },
  {
   "cell_type": "code",
   "execution_count": 18,
   "metadata": {
    "colab": {
     "base_uri": "https://localhost:8080/"
    },
    "id": "IZuzWM-ef3vx",
    "outputId": "105f8e1e-9cef-4064-c281-cbffae149663"
   },
   "outputs": [
    {
     "data": {
      "text/plain": [
       "array([3, 4, 5, 6])"
      ]
     },
     "execution_count": 18,
     "metadata": {},
     "output_type": "execute_result"
    }
   ],
   "source": [
    "m=a[bool_idx]\n",
    "m"
   ]
  },
  {
   "cell_type": "markdown",
   "metadata": {
    "id": "jTctwqdQL9ih"
   },
   "source": [
    "### Datatypes"
   ]
  },
  {
   "cell_type": "code",
   "execution_count": 19,
   "metadata": {
    "colab": {
     "base_uri": "https://localhost:8080/"
    },
    "id": "4za4O0m5L9ih",
    "outputId": "f8848b81-a1c6-4521-9cbd-15ba37efc832"
   },
   "outputs": [
    {
     "name": "stdout",
     "output_type": "stream",
     "text": [
      "int64 float64 float16\n"
     ]
    }
   ],
   "source": [
    "x = np.array([1, 2])  \n",
    "y = np.array([1.0, 2.0])  \n",
    "z = np.array([1, 2], dtype=np.float16) \n",
    "\n",
    "print(x.dtype, y.dtype, z.dtype)"
   ]
  },
  {
   "cell_type": "code",
   "execution_count": 20,
   "metadata": {
    "colab": {
     "base_uri": "https://localhost:8080/"
    },
    "id": "nil4AScML9io",
    "outputId": "bb1d62f1-4bf8-41c4-93ba-d0c60d731d8c"
   },
   "outputs": [
    {
     "name": "stdout",
     "output_type": "stream",
     "text": [
      "[1. 4.]\n",
      "[1. 4.]\n"
     ]
    }
   ],
   "source": [
    "print(x * y)\n",
    "print(np.multiply(x, y))"
   ]
  },
  {
   "cell_type": "code",
   "execution_count": 21,
   "metadata": {
    "colab": {
     "base_uri": "https://localhost:8080/"
    },
    "id": "0JoA4lH6L9ip",
    "outputId": "d9ab2a86-2c65-4c73-f915-f68c1eb2c01a"
   },
   "outputs": [
    {
     "name": "stdout",
     "output_type": "stream",
     "text": [
      "[1. 1.]\n",
      "[1. 1.]\n"
     ]
    }
   ],
   "source": [
    "print(x / y)\n",
    "print(np.divide(x, y))"
   ]
  },
  {
   "cell_type": "code",
   "execution_count": 22,
   "metadata": {
    "colab": {
     "base_uri": "https://localhost:8080/"
    },
    "id": "g0iZuA6bL9ir",
    "outputId": "495e67c4-2a2a-41b1-b718-b80234684c72"
   },
   "outputs": [
    {
     "name": "stdout",
     "output_type": "stream",
     "text": [
      "[1.         1.41421356]\n"
     ]
    }
   ],
   "source": [
    "print(np.sqrt(x))"
   ]
  },
  {
   "cell_type": "code",
   "execution_count": 23,
   "metadata": {
    "colab": {
     "base_uri": "https://localhost:8080/"
    },
    "id": "I3FnmoSeL9iu",
    "outputId": "ac170753-1caa-4d77-ac78-577174bf7c88"
   },
   "outputs": [
    {
     "name": "stdout",
     "output_type": "stream",
     "text": [
      "219\n",
      "219\n"
     ]
    }
   ],
   "source": [
    "x = np.array([[1,2],[3,4]])\n",
    "y = np.array([[5,6],[7,8]])\n",
    "\n",
    "v = np.array([9,10])\n",
    "w = np.array([11, 12])\n",
    "\n",
    "print(v.dot(w))\n",
    "print(np.dot(v, w))"
   ]
  },
  {
   "cell_type": "code",
   "execution_count": 24,
   "metadata": {
    "colab": {
     "base_uri": "https://localhost:8080/"
    },
    "id": "vyrWA-mXSdtt",
    "outputId": "afcd8689-50be-4640-c77a-c87be626da5a"
   },
   "outputs": [
    {
     "name": "stdout",
     "output_type": "stream",
     "text": [
      "219\n"
     ]
    }
   ],
   "source": [
    "print(v @ w)"
   ]
  },
  {
   "cell_type": "code",
   "execution_count": 25,
   "metadata": {
    "colab": {
     "base_uri": "https://localhost:8080/"
    },
    "id": "zvUODeTxL9iw",
    "outputId": "c69077c7-ad20-46b5-c53b-741e0b72fc31"
   },
   "outputs": [
    {
     "name": "stdout",
     "output_type": "stream",
     "text": [
      "[29 67]\n",
      "[29 67]\n",
      "[29 67]\n"
     ]
    }
   ],
   "source": [
    "print(x.dot(v))\n",
    "print(np.dot(x, v))\n",
    "print(x @ v)"
   ]
  },
  {
   "cell_type": "code",
   "execution_count": 26,
   "metadata": {
    "colab": {
     "base_uri": "https://localhost:8080/"
    },
    "id": "3V_3NzNEL9iy",
    "outputId": "6cd372f6-706c-41a9-fe10-7e273c5094cd"
   },
   "outputs": [
    {
     "name": "stdout",
     "output_type": "stream",
     "text": [
      "[[19 22]\n",
      " [43 50]]\n",
      "[[19 22]\n",
      " [43 50]]\n",
      "[[19 22]\n",
      " [43 50]]\n"
     ]
    }
   ],
   "source": [
    "print(x.dot(y))\n",
    "print(np.dot(x, y))\n",
    "print(x @ y)"
   ]
  },
  {
   "cell_type": "code",
   "execution_count": 27,
   "metadata": {
    "colab": {
     "base_uri": "https://localhost:8080/"
    },
    "id": "mpRis9yBytTo",
    "outputId": "ae2159fc-dfa8-459b-9a12-ff7a75613ca5"
   },
   "outputs": [
    {
     "data": {
      "text/plain": [
       "array([[1, 2],\n",
       "       [3, 4]])"
      ]
     },
     "execution_count": 27,
     "metadata": {},
     "output_type": "execute_result"
    }
   ],
   "source": [
    "x"
   ]
  },
  {
   "cell_type": "code",
   "execution_count": 28,
   "metadata": {
    "colab": {
     "base_uri": "https://localhost:8080/"
    },
    "id": "63Yl1f3oL9i3",
    "outputId": "20431a5e-6c15-4a69-cb1b-e5ad7ac88725"
   },
   "outputs": [
    {
     "name": "stdout",
     "output_type": "stream",
     "text": [
      "[[1 2]\n",
      " [3 4]]\n",
      "transpose\n",
      " [[1 3]\n",
      " [2 4]]\n"
     ]
    }
   ],
   "source": [
    "print(x)\n",
    "print(\"transpose\\n\", x.T)"
   ]
  },
  {
   "cell_type": "code",
   "execution_count": 29,
   "metadata": {
    "colab": {
     "base_uri": "https://localhost:8080/"
    },
    "id": "TlBAapWVmz6c",
    "outputId": "e7224baf-a7e8-4e4d-b715-d9fa47bc3a90"
   },
   "outputs": [
    {
     "name": "stdout",
     "output_type": "stream",
     "text": [
      "[[-0.41375117 -1.77248274  0.25693902 -1.90846543]\n",
      " [ 1.2911854   0.57759645  1.22856564  0.39449556]\n",
      " [-0.11133525  0.89847403 -0.52142561 -0.47653982]]\n",
      "[[-0.41375117]\n",
      " [-1.77248274]\n",
      " [ 0.25693902]\n",
      " [-1.90846543]\n",
      " [ 1.2911854 ]\n",
      " [ 0.57759645]\n",
      " [ 1.22856564]\n",
      " [ 0.39449556]\n",
      " [-0.11133525]\n",
      " [ 0.89847403]\n",
      " [-0.52142561]\n",
      " [-0.47653982]]\n"
     ]
    }
   ],
   "source": [
    "a = np.random.randn(3,4)\n",
    "print(a)\n",
    "print(a.reshape(12,1))"
   ]
  },
  {
   "cell_type": "code",
   "execution_count": 30,
   "metadata": {
    "colab": {
     "base_uri": "https://localhost:8080/"
    },
    "id": "OvPmAjMSFn8a",
    "outputId": "0387eced-504a-4261-cb94-c8d69a52e3af"
   },
   "outputs": [
    {
     "name": "stdout",
     "output_type": "stream",
     "text": [
      "[[ 1.95110373 -0.58434848  2.31463471  0.14793115]\n",
      " [-0.19350791  1.23094528  0.67039334  1.28421638]\n",
      " [-1.93454253  0.44665386  0.15747584 -1.14344893]]\n",
      "(12,)\n"
     ]
    },
    {
     "data": {
      "text/plain": [
       "array([ 1.95110373, -0.58434848,  2.31463471,  0.14793115, -0.19350791,\n",
       "        1.23094528,  0.67039334,  1.28421638, -1.93454253,  0.44665386,\n",
       "        0.15747584, -1.14344893])"
      ]
     },
     "execution_count": 30,
     "metadata": {},
     "output_type": "execute_result"
    }
   ],
   "source": [
    "a = np.random.randn(3,4)\n",
    "print(a)\n",
    "flatten_array=a.flatten()\n",
    "print(flatten_array.shape)\n",
    "flatten_array"
   ]
  },
  {
   "cell_type": "code",
   "execution_count": 31,
   "metadata": {
    "colab": {
     "base_uri": "https://localhost:8080/"
    },
    "id": "qvp3k5oKXZ0m",
    "outputId": "f06d2843-3c43-4a06-b99b-b858a3a0ea45"
   },
   "outputs": [
    {
     "name": "stdout",
     "output_type": "stream",
     "text": [
      "[[-0.39877825 -1.23369127  0.77679482  0.12594524]\n",
      " [ 0.5607671  -0.88623894  1.69775973  0.71134754]\n",
      " [-1.4031788   0.02905336 -1.44716493 -1.71261845]]\n"
     ]
    }
   ],
   "source": [
    "a = np.random.randn(3,4)\n",
    "print(a)"
   ]
  },
  {
   "cell_type": "code",
   "execution_count": 32,
   "metadata": {
    "colab": {
     "base_uri": "https://localhost:8080/"
    },
    "id": "TLTlXcJNzQYe",
    "outputId": "50996cf4-cbb5-4d73-a7fe-10870300e003"
   },
   "outputs": [
    {
     "data": {
      "text/plain": [
       "(3, 4)"
      ]
     },
     "execution_count": 32,
     "metadata": {},
     "output_type": "execute_result"
    }
   ],
   "source": [
    "a.shape"
   ]
  },
  {
   "cell_type": "code",
   "execution_count": 33,
   "metadata": {
    "colab": {
     "base_uri": "https://localhost:8080/"
    },
    "id": "B4CvyDElSZYE",
    "outputId": "9ddaed58-e4d9-4aa0-a86d-0a85adde5f4b"
   },
   "outputs": [
    {
     "name": "stdout",
     "output_type": "stream",
     "text": [
      "[[0 1 2 3 4]\n",
      " [5 6 7 8 9]]\n",
      "[[10 11 12 13 14]\n",
      " [15 16 17 18 19]]\n"
     ]
    }
   ],
   "source": [
    "array1 = np.arange(10).reshape(2,5)\n",
    "array2 = np.arange(10,20).reshape(2,5)\n",
    "print(array1)\n",
    "print(array2)"
   ]
  },
  {
   "cell_type": "code",
   "execution_count": 34,
   "metadata": {
    "colab": {
     "base_uri": "https://localhost:8080/"
    },
    "id": "9dP7PAwgfAsi",
    "outputId": "b857ee1f-0e2f-4330-9a0d-a3cd743dc749"
   },
   "outputs": [
    {
     "data": {
      "text/plain": [
       "array([[ 0,  1,  2,  3,  4],\n",
       "       [ 5,  6,  7,  8,  9],\n",
       "       [10, 11, 12, 13, 14],\n",
       "       [15, 16, 17, 18, 19]])"
      ]
     },
     "execution_count": 34,
     "metadata": {},
     "output_type": "execute_result"
    }
   ],
   "source": [
    "array3 = np.concatenate((array1,array2),axis=0)\n",
    "array3"
   ]
  },
  {
   "cell_type": "code",
   "execution_count": 35,
   "metadata": {
    "colab": {
     "base_uri": "https://localhost:8080/"
    },
    "id": "2bT_oet40-s0",
    "outputId": "9bf29bd6-0edc-474a-8496-bffab8cea0c4"
   },
   "outputs": [
    {
     "data": {
      "text/plain": [
       "array([[ 0,  1,  2,  3,  4, 10, 11, 12, 13, 14],\n",
       "       [ 5,  6,  7,  8,  9, 15, 16, 17, 18, 19]])"
      ]
     },
     "execution_count": 35,
     "metadata": {},
     "output_type": "execute_result"
    }
   ],
   "source": [
    "array3 = np.concatenate((array1,array2),axis=1)\n",
    "array3"
   ]
  },
  {
   "cell_type": "markdown",
   "metadata": {
    "id": "tEINf4bEL9jR"
   },
   "source": [
    "## Matplotlib"
   ]
  },
  {
   "cell_type": "markdown",
   "metadata": {
    "id": "U5Z_oMoLL9jV"
   },
   "source": [
    "### Plotting"
   ]
  },
  {
   "cell_type": "code",
   "execution_count": 36,
   "metadata": {
    "id": "oWAq3s2snQ4N"
   },
   "outputs": [],
   "source": [
    "import matplotlib.pyplot as plt"
   ]
  },
  {
   "cell_type": "code",
   "execution_count": 37,
   "metadata": {
    "colab": {
     "base_uri": "https://localhost:8080/"
    },
    "id": "fFku77rH1QT2",
    "outputId": "71fff0d9-65da-4607-f832-1707e7934be9"
   },
   "outputs": [
    {
     "name": "stdout",
     "output_type": "stream",
     "text": [
      "[1 2 3 4 5 6 7 8 9]\n"
     ]
    },
    {
     "data": {
      "text/plain": [
       "array([ 1,  4,  9, 16, 25, 36, 49, 64, 81])"
      ]
     },
     "execution_count": 37,
     "metadata": {},
     "output_type": "execute_result"
    }
   ],
   "source": [
    "x = np.arange(1,10)\n",
    "y1 = x**2\n",
    "print(x)\n",
    "y1"
   ]
  },
  {
   "cell_type": "code",
   "execution_count": 38,
   "metadata": {
    "id": "q3MTxiH0GzkH"
   },
   "outputs": [],
   "source": [
    "y2=x"
   ]
  },
  {
   "cell_type": "code",
   "execution_count": 39,
   "metadata": {
    "colab": {
     "base_uri": "https://localhost:8080/",
     "height": 295
    },
    "id": "TfCQHJ5AL9jY",
    "outputId": "bf0b88b5-21b8-40d1-cf8c-2b8c725f7d05"
   },
   "outputs": [
    {
     "data": {
      "image/png": "[encoded data removed]",
      "text/plain": [
       "<Figure size 432x288 with 1 Axes>"
      ]
     },
     "metadata": {
      "needs_background": "light"
     },
     "output_type": "display_data"
    }
   ],
   "source": [
    "plt.plot(x, y1)\n",
    "plt.plot(x, y2)\n",
    "plt.xlabel('x axis label')\n",
    "plt.ylabel('y axis label')\n",
    "plt.title('plot x and y')\n",
    "plt.legend(['y1','y2'])\n",
    "plt.show()"
   ]
  }
 ],
 "metadata": {
  "colab": {
   "collapsed_sections": [],
   "name": "Python_Hands_On.ipynb",
   "provenance": []
  },
  "kernelspec": {
   "display_name": "Python 3 (ipykernel)",
   "language": "python",
   "name": "python3"
  },
  "language_info": {
   "codemirror_mode": {
    "name": "ipython",
    "version": 3
   },
   "file_extension": ".py",
   "mimetype": "text/x-python",
   "name": "python",
   "nbconvert_exporter": "python",
   "pygments_lexer": "ipython3",
   "version": "3.8.10"
  }
 },
 "nbformat": 4,
 "nbformat_minor": 1
}
